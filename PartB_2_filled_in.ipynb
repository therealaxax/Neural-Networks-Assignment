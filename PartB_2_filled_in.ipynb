{
 "cells": [
  {
   "cell_type": "markdown",
   "metadata": {
    "id": "NFVxWZGJxprU"
   },
   "source": [
    "# CS4001/4042 Assignment 1, Part B, Q2\n",
    "In Question B1, we used the Category Embedding model. This creates a feedforward neural network in which the categorical features get learnable embeddings. In this question, we will make use of a library called Pytorch-WideDeep. This library makes it easy to work with multimodal deep-learning problems combining images, text, and tables. We will just be utilizing the deeptabular component of this library through the TabMlp network:"
   ]
  },
  {
   "cell_type": "code",
   "execution_count": null,
   "metadata": {
    "id": "EycCozG06Duu"
   },
   "outputs": [],
   "source": [
    "!pip install pytorch-widedeep"
   ]
  },
  {
   "cell_type": "code",
   "execution_count": 23,
   "metadata": {
    "id": "lq0elU0J53Yo"
   },
   "outputs": [],
   "source": [
    "SEED = 42\n",
    "\n",
    "import os\n",
    "\n",
    "import random\n",
    "random.seed(SEED)\n",
    "\n",
    "import numpy as np\n",
    "np.random.seed(SEED)\n",
    "\n",
    "import pandas as pd\n",
    "\n",
    "from pytorch_widedeep.preprocessing import TabPreprocessor\n",
    "from pytorch_widedeep.models import TabMlp, WideDeep\n",
    "from pytorch_widedeep import Trainer\n",
    "from pytorch_widedeep.metrics import R2Score"
   ]
  },
  {
   "cell_type": "markdown",
   "metadata": {
    "id": "aU3xdVpwzuLx"
   },
   "source": [
    ">Divide the dataset (‘hdb_price_prediction.csv’) into train and test sets by using entries from the year 2020 and before as training data, and entries from 2021 and after as the test data."
   ]
  },
  {
   "cell_type": "code",
   "execution_count": 24,
   "metadata": {
    "id": "_oYG6lNIh7Mp"
   },
   "outputs": [],
   "source": [
    "df = pd.read_csv('hdb_price_prediction.csv')\n",
    "\n",
    "# TODO: Enter your code here\n",
    "\n",
    "df2021andaftertest = df[df['year']>=2021]\n",
    "df2020andbeforetrain = df[df['year']<=2020]"
   ]
  },
  {
   "cell_type": "markdown",
   "metadata": {
    "id": "m_q9PoR50JAA"
   },
   "source": [
    ">Refer to the documentation of Pytorch-WideDeep and perform the following tasks:\n",
    "https://pytorch-widedeep.readthedocs.io/en/latest/index.html\n",
    "* Use [**TabPreprocessor**](https://pytorch-widedeep.readthedocs.io/en/latest/examples/01_preprocessors_and_utils.html#2-tabpreprocessor) to create the deeptabular component using the continuous\n",
    "features and the categorical features. Use this component to transform the training dataset.\n",
    "* Create the [**TabMlp**](https://pytorch-widedeep.readthedocs.io/en/latest/pytorch-widedeep/model_components.html#pytorch_widedeep.models.tabular.mlp.tab_mlp.TabMlp) model with 2 linear layers in the MLP, with 200 and 100 neurons respectively.\n",
    "* Create a [**Trainer**](https://pytorch-widedeep.readthedocs.io/en/latest/pytorch-widedeep/trainer.html#pytorch_widedeep.training.Trainer) for the training of the created TabMlp model with the root mean squared error (RMSE) cost function. Train the model for 100 epochs using this trainer, keeping a batch size of 64. (Note: set the *num_workers* parameter to 0.)"
   ]
  },
  {
   "cell_type": "code",
   "execution_count": 25,
   "metadata": {
    "id": "ZBY1iqUXtYWn"
   },
   "outputs": [
    {
     "name": "stderr",
     "output_type": "stream",
     "text": [
      "C:\\Users\\Gareth Thong\\Neural Networks and Deep Learning B2\\myenv\\lib\\site-packages\\pytorch_widedeep\\preprocessing\\tab_preprocessor.py:334: UserWarning: Continuous columns will not be normalised\n",
      "  warnings.warn(\"Continuous columns will not be normalised\")\n",
      "epoch 1: 100%|██████████████████████████████████████████████████████| 1366/1366 [00:12<00:00, 109.57it/s, loss=2.28e+5]\n",
      "epoch 2: 100%|██████████████████████████████████████████████████████████| 1366/1366 [00:15<00:00, 86.19it/s, loss=1e+5]\n",
      "epoch 8: 100%|███████████████████████████████████████████████████████| 1366/1366 [00:19<00:00, 68.86it/s, loss=7.02e+4]\n",
      "epoch 9:  77%|██████████████████████████████████████████▌            | 1056/1366 [00:22<00:09, 32.63it/s, loss=6.93e+4]IOPub message rate exceeded.\n",
      "The Jupyter server will temporarily stop sending output\n",
      "to the client in order to avoid crashing it.\n",
      "To change this limit, set the config variable\n",
      "`--ServerApp.iopub_msg_rate_limit`.\n",
      "\n",
      "Current values:\n",
      "ServerApp.iopub_msg_rate_limit=1000.0 (msgs/sec)\n",
      "ServerApp.rate_limit_window=3.0 (secs)\n",
      "\n",
      "epoch 11: 100%|██████████████████████████████████████████████████████| 1366/1366 [00:23<00:00, 57.64it/s, loss=6.77e+4]\n",
      "epoch 17: 100%|██████████████████████████████████████████████████████| 1366/1366 [00:18<00:00, 74.54it/s, loss=6.56e+4]\n",
      "epoch 18:  89%|████████████████████████████████████████████████      | 1216/1366 [00:19<00:03, 42.20it/s, loss=6.52e+4]IOPub message rate exceeded.\n",
      "The Jupyter server will temporarily stop sending output\n",
      "to the client in order to avoid crashing it.\n",
      "To change this limit, set the config variable\n",
      "`--ServerApp.iopub_msg_rate_limit`.\n",
      "\n",
      "Current values:\n",
      "ServerApp.iopub_msg_rate_limit=1000.0 (msgs/sec)\n",
      "ServerApp.rate_limit_window=3.0 (secs)\n",
      "\n",
      "epoch 21: 100%|██████████████████████████████████████████████████████| 1366/1366 [00:16<00:00, 82.78it/s, loss=6.48e+4]\n",
      "epoch 28: 100%|██████████████████████████████████████████████████████| 1366/1366 [00:21<00:00, 62.71it/s, loss=6.32e+4]\n",
      "epoch 29:  29%|███████████████▉                                       | 397/1366 [00:04<00:13, 71.12it/s, loss=6.31e+4]IOPub message rate exceeded.\n",
      "The Jupyter server will temporarily stop sending output\n",
      "to the client in order to avoid crashing it.\n",
      "To change this limit, set the config variable\n",
      "`--ServerApp.iopub_msg_rate_limit`.\n",
      "\n",
      "Current values:\n",
      "ServerApp.iopub_msg_rate_limit=1000.0 (msgs/sec)\n",
      "ServerApp.rate_limit_window=3.0 (secs)\n",
      "\n",
      "epoch 35: 100%|██████████████████████████████████████████████████████| 1366/1366 [00:20<00:00, 66.51it/s, loss=6.23e+4]\n",
      "epoch 42: 100%|██████████████████████████████████████████████████████| 1366/1366 [00:21<00:00, 62.37it/s, loss=6.15e+4]\n",
      "epoch 43:  84%|█████████████████████████████████████████████▏        | 1143/1366 [00:18<00:03, 68.55it/s, loss=6.13e+4]IOPub message rate exceeded.\n",
      "The Jupyter server will temporarily stop sending output\n",
      "to the client in order to avoid crashing it.\n",
      "To change this limit, set the config variable\n",
      "`--ServerApp.iopub_msg_rate_limit`.\n",
      "\n",
      "Current values:\n",
      "ServerApp.iopub_msg_rate_limit=1000.0 (msgs/sec)\n",
      "ServerApp.rate_limit_window=3.0 (secs)\n",
      "\n",
      "epoch 50: 100%|██████████████████████████████████████████████████████| 1366/1366 [00:17<00:00, 78.94it/s, loss=6.03e+4]\n",
      "epoch 57: 100%|██████████████████████████████████████████████████████| 1366/1366 [00:19<00:00, 71.14it/s, loss=5.95e+4]\n",
      "epoch 58:  71%|██████████████████████████████████████▉                | 968/1366 [00:14<00:04, 86.24it/s, loss=5.93e+4]IOPub message rate exceeded.\n",
      "The Jupyter server will temporarily stop sending output\n",
      "to the client in order to avoid crashing it.\n",
      "To change this limit, set the config variable\n",
      "`--ServerApp.iopub_msg_rate_limit`.\n",
      "\n",
      "Current values:\n",
      "ServerApp.iopub_msg_rate_limit=1000.0 (msgs/sec)\n",
      "ServerApp.rate_limit_window=3.0 (secs)\n",
      "\n",
      "epoch 66: 100%|██████████████████████████████████████████████████████| 1366/1366 [00:17<00:00, 79.62it/s, loss=5.81e+4]\n",
      "epoch 73: 100%|██████████████████████████████████████████████████████| 1366/1366 [00:19<00:00, 69.11it/s, loss=5.48e+4]\n",
      "epoch 74:  54%|█████████████████████████████▉                         | 742/1366 [00:11<00:11, 56.64it/s, loss=5.39e+4]IOPub message rate exceeded.\n",
      "The Jupyter server will temporarily stop sending output\n",
      "to the client in order to avoid crashing it.\n",
      "To change this limit, set the config variable\n",
      "`--ServerApp.iopub_msg_rate_limit`.\n",
      "\n",
      "Current values:\n",
      "ServerApp.iopub_msg_rate_limit=1000.0 (msgs/sec)\n",
      "ServerApp.rate_limit_window=3.0 (secs)\n",
      "\n",
      "epoch 80: 100%|███████████████████████████████████████████████████████| 1366/1366 [00:17<00:00, 75.98it/s, loss=5.2e+4]\n",
      "epoch 81:  36%|███████████████████▊                                   | 493/1366 [00:09<00:14, 59.78it/s, loss=5.18e+4]IOPub message rate exceeded.\n",
      "The Jupyter server will temporarily stop sending output\n",
      "to the client in order to avoid crashing it.\n",
      "To change this limit, set the config variable\n",
      "`--ServerApp.iopub_msg_rate_limit`.\n",
      "\n",
      "Current values:\n",
      "ServerApp.iopub_msg_rate_limit=1000.0 (msgs/sec)\n",
      "ServerApp.rate_limit_window=3.0 (secs)\n",
      "\n",
      "epoch 81: 100%|███████████████████████████████████████████████████████| 1366/1366 [00:23<00:00, 58.00it/s, loss=5.2e+4]\n",
      "epoch 88: 100%|██████████████████████████████████████████████████████| 1366/1366 [00:25<00:00, 53.51it/s, loss=5.12e+4]\n",
      "epoch 89:  23%|████████████▍                                          | 308/1366 [00:04<00:14, 71.77it/s, loss=5.05e+4]IOPub message rate exceeded.\n",
      "The Jupyter server will temporarily stop sending output\n",
      "to the client in order to avoid crashing it.\n",
      "To change this limit, set the config variable\n",
      "`--ServerApp.iopub_msg_rate_limit`.\n",
      "\n",
      "Current values:\n",
      "ServerApp.iopub_msg_rate_limit=1000.0 (msgs/sec)\n",
      "ServerApp.rate_limit_window=3.0 (secs)\n",
      "\n",
      "epoch 97: 100%|██████████████████████████████████████████████████████| 1366/1366 [00:16<00:00, 81.52it/s, loss=5.03e+4]\n",
      "epoch 98:  57%|███████████████████████████████▌                       | 783/1366 [00:09<00:06, 88.61it/s, loss=5.02e+4]IOPub message rate exceeded.\n",
      "The Jupyter server will temporarily stop sending output\n",
      "to the client in order to avoid crashing it.\n",
      "To change this limit, set the config variable\n",
      "`--ServerApp.iopub_msg_rate_limit`.\n",
      "\n",
      "Current values:\n",
      "ServerApp.iopub_msg_rate_limit=1000.0 (msgs/sec)\n",
      "ServerApp.rate_limit_window=3.0 (secs)\n",
      "\n",
      "epoch 100: 100%|████████████████████████████████████████████████████████| 1366/1366 [00:18<00:00, 74.70it/s, loss=5e+4]\n",
      "predict: 100%|████████████████████████████████████████████████████████████████████| 1128/1128 [00:05<00:00, 190.06it/s]\n"
     ]
    }
   ],
   "source": [
    "# TODO: Enter your code here\n",
    "\n",
    "# For questions B1 and B2, the following features should be used:    \n",
    "# - Numeric / Continuous features: dist_to_nearest_stn, dist_to_dhoby, degree_centrality, eigenvector_centrality, remaining_lease_years, floor_area_sqm \n",
    "# - Categorical features: month, town, flat_model_type, storey_range\n",
    "\n",
    "target = df2020andbeforetrain[\"resale_price\"].values\n",
    "cat_embed_cols = [\"month\", \"town\", \"flat_model_type\", \"storey_range\",]\n",
    "continuous_cols = [\"dist_to_nearest_stn\", \"dist_to_dhoby\", \"degree_centrality\", \"eigenvector_centrality\", \"remaining_lease_years\", \"floor_area_sqm\" ]\n",
    "tab_preprocessor = TabPreprocessor(cat_embed_cols=cat_embed_cols, continuous_cols=continuous_cols)\n",
    "X_tab = tab_preprocessor.fit_transform(df2020andbeforetrain)\n",
    "\n",
    "tab_mlp = TabMlp(\n",
    "    mlp_hidden_dims=[200, 100],\n",
    "    column_idx=tab_preprocessor.column_idx,\n",
    "    cat_embed_input=tab_preprocessor.cat_embed_input,\n",
    "    continuous_cols=continuous_cols,\n",
    ")\n",
    "\n",
    "model = WideDeep(deeptabular=tab_mlp)\n",
    "\n",
    "trainer = Trainer(model, objective=\"root_mean_squared_error\", num_workers=0)\n",
    "trainer.fit(\n",
    "    X_tab=X_tab,\n",
    "    target=target,\n",
    "    n_epochs=100,\n",
    "    batch_size=64,\n",
    ")\n",
    "\n",
    "X_tab_te = tab_preprocessor.transform(df2021andaftertest)\n",
    "preds = trainer.predict(X_tab=X_tab_te)"
   ]
  },
  {
   "cell_type": "markdown",
   "metadata": {
    "id": "V46s-MdM0y5c"
   },
   "source": [
    ">Report the test RMSE and the test R2 value that you obtained."
   ]
  },
  {
   "cell_type": "code",
   "execution_count": 26,
   "metadata": {
    "id": "KAhAgvMC07g6"
   },
   "outputs": [
    {
     "name": "stdout",
     "output_type": "stream",
     "text": [
      "The test RMSE value is 96944.68054293246\n",
      "The test R2 value is 0.6716428346170003\n"
     ]
    }
   ],
   "source": [
    "# TODO: Enter your code here\n",
    "from sklearn.metrics import mean_squared_error, r2_score\n",
    "\n",
    "rmse = mean_squared_error(df2021andaftertest[\"resale_price\"], preds, squared=False)\n",
    "print(\"The test RMSE value is \" + str(rmse))\n",
    "\n",
    "r2value = r2_score(df2021andaftertest[\"resale_price\"], preds)\n",
    "print(\"The test R2 value is \" + str(r2value))"
   ]
  }
 ],
 "metadata": {
  "colab": {
   "provenance": []
  },
  "kernelspec": {
   "display_name": "Python 3 (ipykernel)",
   "language": "python",
   "name": "python3"
  },
  "language_info": {
   "codemirror_mode": {
    "name": "ipython",
    "version": 3
   },
   "file_extension": ".py",
   "mimetype": "text/x-python",
   "name": "python",
   "nbconvert_exporter": "python",
   "pygments_lexer": "ipython3",
   "version": "3.10.13"
  }
 },
 "nbformat": 4,
 "nbformat_minor": 4
}
