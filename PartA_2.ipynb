{
 "cells": [
  {
   "cell_type": "markdown",
   "id": "0df96564",
   "metadata": {
    "deletable": false,
    "editable": false,
    "id": "c5cb62ac-8e88-43e6-bce9-da20fabf38ff",
    "nbgrader": {
     "cell_type": "markdown",
     "checksum": "3c7e82aadc4d77a8b23f7f880449f9e3",
     "grade": false,
     "grade_id": "a2",
     "locked": true,
     "schema_version": 3,
     "solution": false,
     "task": false
    },
    "tags": []
   },
   "source": [
    "# Question A2 (10 marks)"
   ]
  },
  {
   "cell_type": "markdown",
   "id": "450cf486",
   "metadata": {
    "deletable": false,
    "editable": false,
    "id": "26b4ac2a-d56e-4151-8e0a-4a833cbc643e",
    "nbgrader": {
     "cell_type": "markdown",
     "checksum": "eb28aa752ce5540f5b18d10694b52ea9",
     "grade": false,
     "grade_id": "a22",
     "locked": true,
     "schema_version": 3,
     "solution": false,
     "task": false
    },
    "tags": []
   },
   "source": [
    "### In this question, we will determine the optimal batch size for mini-batch gradient descent. Find the optimal batch size for mini-batch gradient descent by training the neural network and evaluating the performances for different batch sizes. Note: Use 5-fold cross-validation on training partition to perform hyperparameter selection. You will have to reconsider the scaling of the dataset during the 5-fold cross validation.\n",
    "\n",
    "* note: some cells are non-editable and cannot be filled, but leave them untouched. Fill up only cells which are provided."
   ]
  },
  {
   "cell_type": "markdown",
   "id": "499c8a54",
   "metadata": {
    "deletable": false,
    "editable": false,
    "id": "fb9411ad-2324-400e-852e-ff5c0ca716f0",
    "nbgrader": {
     "cell_type": "markdown",
     "checksum": "aceec82011f43733c0551ca196f1b16c",
     "grade": false,
     "grade_id": "a2_1",
     "locked": true,
     "schema_version": 3,
     "solution": false,
     "task": false
    },
    "tags": []
   },
   "source": [
    "#### Plot mean cross-validation accuracies on the final epoch for different batch sizes as a scatter plot. Limit search space to batch sizes {128, 256, 512, 1024}. Next, create a table of time taken to train the network on the last epoch against different batch sizes. Finally, select the optimal batch size and state a reason for your selection.\n",
    "\n",
    "This might take a while to run, so plan your time carefully."
   ]
  },
  {
   "cell_type": "code",
   "execution_count": 38,
   "id": "876a815d",
   "metadata": {
    "deletable": false,
    "editable": false,
    "id": "b0edc610-21e6-4cc7-9603-59318b961990",
    "nbgrader": {
     "cell_type": "code",
     "checksum": "909acb3c7ff3883eb5381eb586615d3b",
     "grade": false,
     "grade_id": "libraries",
     "locked": true,
     "schema_version": 3,
     "solution": false,
     "task": false
    },
    "tags": []
   },
   "outputs": [],
   "source": [
    "import tqdm\n",
    "import time\n",
    "import random\n",
    "import numpy as np\n",
    "import pandas as pd\n",
    "import matplotlib.pyplot as plt\n",
    "\n",
    "import torch\n",
    "from torch import nn\n",
    "from torch.utils.data import Dataset\n",
    "from torch.utils.data import DataLoader\n",
    "\n",
    "from scipy.io import wavfile as wav\n",
    "\n",
    "from sklearn import preprocessing\n",
    "from sklearn.model_selection import KFold\n",
    "from sklearn.model_selection import train_test_split\n",
    "from sklearn.metrics import f1_score, precision_score, recall_score, confusion_matrix\n",
    "\n",
    "from common_utils import set_seed\n",
    "\n",
    "# setting seed\n",
    "set_seed()"
   ]
  },
  {
   "cell_type": "markdown",
   "id": "232d2673",
   "metadata": {
    "deletable": false,
    "editable": false,
    "id": "e8e12861-4713-4914-9f4b-8a7381708243",
    "nbgrader": {
     "cell_type": "markdown",
     "checksum": "ed97d9f30da032a5e349047c614efec1",
     "grade": false,
     "grade_id": "a2_1_2",
     "locked": true,
     "schema_version": 3,
     "solution": false,
     "task": false
    },
    "tags": []
   },
   "source": [
    "2. To reduce repeated code, place your\n",
    "\n",
    "- network (MLP defined in QA1)\n",
    "- torch datasets (CustomDataset defined in QA1)\n",
    "- loss function (loss_fn defined in QA1)\n",
    "\n",
    "in a separate file called **common_utils.py**\n",
    "\n",
    "Import them into this file. You will not be repenalised for any error in QA1 here as the code in QA1 will not be remarked.\n",
    "\n",
    "The following code cell will not be marked."
   ]
  },
  {
   "cell_type": "code",
   "execution_count": 39,
   "id": "31389832",
   "metadata": {
    "deletable": false,
    "id": "37a1a982-de85-46de-b890-3b81f79f5887",
    "nbgrader": {
     "cell_type": "code",
     "checksum": "9db3ca972642b1447dba3ebd5f2db24b",
     "grade": false,
     "grade_id": "import",
     "locked": false,
     "schema_version": 3,
     "solution": true,
     "task": false
    },
    "tags": []
   },
   "outputs": [
    {
     "name": "stdout",
     "output_type": "stream",
     "text": [
      "            tempo  total_beats  average_beats  chroma_stft_mean  \\\n",
      "5358    95.703125         1874     187.400000          0.567137   \n",
      "642    103.359375          477      79.500000          0.549953   \n",
      "7565    78.302557          875     125.000000          0.646271   \n",
      "9584   112.347147         3430     201.764706          0.599859   \n",
      "9374   198.768029         6870     214.687500          0.724747   \n",
      "...           ...          ...            ...               ...   \n",
      "7813   151.999081         3349     176.263158          0.591543   \n",
      "10955  107.666016         3107     194.187500          0.514742   \n",
      "905    161.499023        16138     375.302326          0.492115   \n",
      "5192    92.285156          247      61.750000          0.526634   \n",
      "235     95.703125          602      86.000000          0.500863   \n",
      "\n",
      "       chroma_stft_var  chroma_cq_mean  chroma_cq_var  chroma_cens_mean  \\\n",
      "5358          0.088985        0.515726       0.076869          0.262738   \n",
      "642           0.088597        0.488051       0.072914          0.261439   \n",
      "7565          0.054740        0.475754       0.066636          0.259040   \n",
      "9584          0.076681        0.494668       0.085328          0.256567   \n",
      "9374          0.043357        0.539541       0.058360          0.263587   \n",
      "...                ...             ...            ...               ...   \n",
      "7813          0.071940        0.528416       0.065232          0.270272   \n",
      "10955         0.092520        0.511646       0.074506          0.271299   \n",
      "905           0.093797        0.469686       0.078947          0.263121   \n",
      "5192          0.099779        0.491312       0.074828          0.265789   \n",
      "235           0.088452        0.395492       0.093293          0.241050   \n",
      "\n",
      "       chroma_cens_var  melspectrogram_mean  ...  mfcc15_var  mfcc16_mean  \\\n",
      "5358          0.014302             0.015899  ...  117.286774     6.089151   \n",
      "642           0.014983             0.018391  ...  111.303917     3.540125   \n",
      "7565          0.016232             0.124626  ...   49.751530     0.434910   \n",
      "9584          0.017507             0.004477  ...   62.477417    -3.350802   \n",
      "9374          0.013855             0.014140  ...   58.752964    -2.410653   \n",
      "...                ...                  ...  ...         ...          ...   \n",
      "7813          0.010286             0.032054  ...  164.046249    -0.369736   \n",
      "10955         0.009730             0.040926  ...  102.433891     6.218508   \n",
      "905           0.014101             0.019817  ...   65.280060    -2.093727   \n",
      "5192          0.012689             0.164569  ...  107.594589    -3.633551   \n",
      "235           0.025228             0.192166  ...  120.908699    -4.513874   \n",
      "\n",
      "       mfcc16_var  mfcc17_mean  mfcc17_var  mfcc18_mean  mfcc18_var  \\\n",
      "5358    84.147858    -2.422905   67.536301    -4.414438   58.760742   \n",
      "642     60.906502     1.795746   82.610077    -2.166018   77.132889   \n",
      "7565    47.341629    -0.417416   65.334297    -1.891326   72.152039   \n",
      "9584    67.107170    -3.099106   70.017227    -3.497207   53.586472   \n",
      "9374    48.343849     5.383557   52.549114    -4.578301   51.342655   \n",
      "...           ...          ...         ...          ...         ...   \n",
      "7813    89.608910     2.543516   68.398201    -5.682937  110.162849   \n",
      "10955   62.830105    -4.612158   68.126984    -0.780457   64.284851   \n",
      "905     60.009510    -1.603222   57.384533    -4.032818   58.510933   \n",
      "5192    59.098770    -4.288532   50.693542    -5.702360   67.433617   \n",
      "235     92.010963    -3.100434   92.593933    -9.613089   92.431259   \n",
      "\n",
      "       mfcc19_mean  mfcc19_var  label  \n",
      "5358      2.859649   57.288010      0  \n",
      "642      -0.994072   82.454002      1  \n",
      "7565      3.552524   44.058418      1  \n",
      "9584     -4.491953   59.188267      0  \n",
      "9374      4.329215   50.392876      0  \n",
      "...            ...         ...    ...  \n",
      "7813     -0.494317   67.964111      1  \n",
      "10955    -2.875442   70.085495      0  \n",
      "905      -0.537293   63.688316      0  \n",
      "5192     -4.019995   47.300236      0  \n",
      "235      -5.749306   81.220169      1  \n",
      "\n",
      "[8439 rows x 78 columns]\n",
      "[0 1 1 ... 0 0 1]\n"
     ]
    }
   ],
   "source": [
    "# YOUR CODE HERE\n",
    "from common_utils import MLP, CustomDataset, loss_fn, split_dataset\n",
    "# from common_utils import split_dataset, preprocess_dataset\n",
    "\n",
    "# def preprocess(df):\n",
    "#     # YOUR CODE HERE\n",
    "    \n",
    "#     X_train, y_train, X_test, y_test = split_dataset(df, 'filename', 0.30, 1)\n",
    "#     X_train_scaled, X_test_scaled = preprocess_dataset(X_train, X_test)\n",
    "    \n",
    "#     return X_train_scaled, y_train, X_test_scaled, y_test\n",
    "\n",
    "# import the x train and y train datasets\n",
    "df = pd.read_csv('simplified.csv')\n",
    "df['label'] = df['filename'].str.split('_').str[-2]\n",
    "\n",
    "df['label'].value_counts()\n",
    "#change to train test split?\n",
    "X_train, y_train, X_test, y_test = split_dataset(df, 'filename', 0.30, 1)\n",
    "print(X_train)\n",
    "print(y_train)\n",
    "\n",
    "# X_train_scaled, y_train, X_test_scaled, y_test = preprocess(df)\n",
    "# X_train, y_train = X_train_scaled, y_train"
   ]
  },
  {
   "cell_type": "code",
   "execution_count": null,
   "id": "37108bd5",
   "metadata": {
    "deletable": false,
    "editable": false,
    "id": "5aa562e7-23c3-4920-ae63-4563bf30e39d",
    "nbgrader": {
     "cell_type": "code",
     "checksum": "ae6b33318200b4bc38d431576963edb1",
     "grade": true,
     "grade_id": "correct_import",
     "locked": true,
     "points": 0,
     "schema_version": 3,
     "solution": false,
     "task": false
    },
    "tags": []
   },
   "outputs": [],
   "source": []
  },
  {
   "cell_type": "markdown",
   "id": "d2d4ff1d",
   "metadata": {
    "deletable": false,
    "editable": false,
    "id": "82ea67d6-1eb4-428d-9407-9d988e927ff6",
    "nbgrader": {
     "cell_type": "markdown",
     "checksum": "c738d3b4888de90dda8c532036bc5fe5",
     "grade": false,
     "grade_id": "a2_1_3",
     "locked": true,
     "schema_version": 3,
     "solution": false,
     "task": false
    },
    "tags": []
   },
   "source": [
    "3. Define different folds for different batch sizes to get a dictionary of training and validation datasets. Preprocess your datasets accordingly."
   ]
  },
  {
   "cell_type": "code",
   "execution_count": 40,
   "id": "2e9ad6b5",
   "metadata": {
    "deletable": false,
    "id": "deab683a-2c9e-4e62-823a-e8b4a186bda8",
    "nbgrader": {
     "cell_type": "code",
     "checksum": "d02dac62baa528c191eb4f47b2495406",
     "grade": false,
     "grade_id": "dataset",
     "locked": false,
     "schema_version": 3,
     "solution": true,
     "task": false
    },
    "tags": []
   },
   "outputs": [
    {
     "name": "stdout",
     "output_type": "stream",
     "text": [
      "4\n",
      "5\n"
     ]
    }
   ],
   "source": [
    "def generate_cv_folds_for_batch_sizes(parameters, X_train, y_train):\n",
    "    \"\"\"\n",
    "    returns:\n",
    "    X_train_scaled_dict(dict) where X_train_scaled_dict[batch_size] is a list of the preprocessed training matrix for the different folds.\n",
    "    X_val_scaled_dict(dict) where X_val_scaled_dict[batch_size] is a list of the processed validation matrix for the different folds.\n",
    "    y_train_dict(dict) where y_train_dict[batch_size] is a list of labels for the different folds\n",
    "    y_val_dict(dict) where y_val_dict[batch_size] is a list of labels for the different folds\n",
    "    \"\"\"\n",
    "    # YOUR CODE HERE\n",
    "#     x train scaled and y train goes in here\n",
    "#     x train scaled dict is the list of of 4/5 matrices\n",
    "#     x val scaled dict is the last 1/5 matrix for testing\n",
    "#     y train dict is the list of 4/5 labels\n",
    "#     y val dict is the last 1/5 labels for testing\n",
    "    \n",
    "#     It will not differ by batch size. X_train_scaled_dict[128] is a list of train dataset for the different folds, and you should have 5 elements in the list in total. It is the same as X_train_scaled_dict[256], etc\n",
    "#     X_train_scaled_dict should look like {128:[list of 5 folds] 256:[list of 5 folds], 512: [list of 5 folds], 1024: [list of 5 folds]}\n",
    "#     y_train_dict is a dictionary of 4x5 elements as well, each element is the matrix of labels to train towards\n",
    "    \n",
    "#     customdataset = xtrain, ytrain\n",
    "    \n",
    "#     cv = KFold(n_splits=5, shuffle=True, random_state=1)\n",
    "#     for train_idx, test_idx in cv.split(X_train, y_train):\n",
    "#         X_train_scaled_dict, y_train_dict  = X_train[train_idx], y_train[train_idx]\n",
    "#         X_val_scaled_dict, y__val_dict = X_train[test_idx], y_train[test_idx]\n",
    "    n_splits = 5 \n",
    "    batch_sizes = parameters  # Default to batch size of 32 if not provided\n",
    "    \n",
    "    kf = KFold(n_splits=n_splits, shuffle=True, random_state=1)\n",
    "    \n",
    "    X_train_scaled_dict = {batch_size: [] for batch_size in batch_sizes}\n",
    "    X_val_scaled_dict = {batch_size: [] for batch_size in batch_sizes}\n",
    "    y_train_dict = {batch_size: [] for batch_size in batch_sizes}\n",
    "    y_val_dict = {batch_size: [] for batch_size in batch_sizes}\n",
    "    \n",
    "    for train_idx, val_idx in kf.split(X_train):\n",
    "        X_train_fold, X_val_fold = X_train[train_idx], X_train[val_idx]\n",
    "        y_train_fold, y_val_fold = y_train[train_idx], y_train[val_idx]\n",
    "        \n",
    "        standard_scaler = preprocessing.StandardScaler()\n",
    "        X_train_fold_scaled = standard_scaler.fit_transform(X_train_fold)\n",
    "        X_val_fold_scaled = standard_scaler.fit_transform(X_val_fold)\n",
    "        \n",
    "        for batch_size in batch_sizes:\n",
    "            X_train_scaled_dict[batch_size].append(X_train_fold_scaled)\n",
    "            X_val_scaled_dict[batch_size].append(X_val_fold_scaled)\n",
    "            y_train_dict[batch_size].append(y_train_fold)\n",
    "            y_val_dict[batch_size].append(y_val_fold)\n",
    "    \n",
    "    return X_train_scaled_dict, X_val_scaled_dict, y_train_dict, y_val_dict\n",
    "\n",
    "batch_sizes = [128,256,512,1024]\n",
    "X_train_scaled_dict, X_val_scaled_dict, y_train_dict, y_val_dict = generate_cv_folds_for_batch_sizes(batch_sizes, X_train.to_numpy(), y_train)\n",
    "print(len(X_train_scaled_dict))\n",
    "print(len(X_train_scaled_dict[128]))\n",
    "# print(X_val_scaled_dict)\n",
    "# print(y_train_dict)\n",
    "# print(y_val_dict)"
   ]
  },
  {
   "cell_type": "code",
   "execution_count": null,
   "id": "5ead055c",
   "metadata": {
    "deletable": false,
    "editable": false,
    "id": "235ca332-9676-42bd-9801-0f5f4157a777",
    "nbgrader": {
     "cell_type": "code",
     "checksum": "4ae5f281cd84f4d36f81f2ae126cf915",
     "grade": true,
     "grade_id": "correct_dataset",
     "locked": true,
     "points": 1,
     "schema_version": 3,
     "solution": false,
     "task": false
    },
    "tags": []
   },
   "outputs": [],
   "source": []
  },
  {
   "cell_type": "code",
   "execution_count": null,
   "id": "8f14cac7",
   "metadata": {
    "deletable": false,
    "editable": false,
    "id": "8df744af-f485-4871-9e0a-70fd41d1df4d",
    "nbgrader": {
     "cell_type": "code",
     "checksum": "4dcf6be1ad49306172e6f27243e613f2",
     "grade": true,
     "grade_id": "correct_dataset2",
     "locked": true,
     "points": 1,
     "schema_version": 3,
     "solution": false,
     "task": false
    },
    "tags": []
   },
   "outputs": [],
   "source": []
  },
  {
   "cell_type": "markdown",
   "id": "11edd61d",
   "metadata": {
    "deletable": false,
    "editable": false,
    "id": "558aa470-6d7e-454c-9cda-9ad881d58c53",
    "nbgrader": {
     "cell_type": "markdown",
     "checksum": "064d68c9708b5e3f1e2463001b6d78b4",
     "grade": false,
     "grade_id": "a2_1_4",
     "locked": true,
     "schema_version": 3,
     "solution": false,
     "task": false
    },
    "tags": []
   },
   "source": [
    "4. Perform hyperparameter tuning for the different batch sizes with 5-fold cross validation."
   ]
  },
  {
   "cell_type": "code",
   "execution_count": null,
   "id": "6a25e871",
   "metadata": {
    "deletable": false,
    "id": "3107ebe9-d121-4510-9782-2a62d32258d0",
    "nbgrader": {
     "cell_type": "code",
     "checksum": "e9665887943f38ae7bed6c1d8351903b",
     "grade": true,
     "grade_id": "hyperparameter_tuning",
     "locked": false,
     "points": 4,
     "schema_version": 3,
     "solution": true,
     "task": false
    },
    "tags": []
   },
   "outputs": [],
   "source": [
    "\n",
    "# YOUR CODE HERE\n",
    "\n",
    "batch_sizes = []\n",
    "cross_validation_accuracies, cross_validation_times = find_optimal_hyperparameter(X_train_scaled_dict, X_val_scaled_dict, y_train_dict, y_val_dict, batch_sizes, 'batch_size')\n"
   ]
  },
  {
   "cell_type": "code",
   "execution_count": null,
   "id": "23e2a1b3",
   "metadata": {
    "deletable": false,
    "editable": false,
    "id": "64384c9c-ddd5-4460-bf37-b9977443a65c",
    "nbgrader": {
     "cell_type": "code",
     "checksum": "975e552e751c4efb2cec0eac214f85cd",
     "grade": true,
     "grade_id": "correct_hyperparameter_tuning",
     "locked": true,
     "points": 1,
     "schema_version": 3,
     "solution": false,
     "task": false
    },
    "tags": []
   },
   "outputs": [],
   "source": []
  },
  {
   "cell_type": "markdown",
   "id": "d1de7f92",
   "metadata": {
    "deletable": false,
    "editable": false,
    "id": "b6756ab6-92e0-4a5e-b4b9-aebe009f5480",
    "nbgrader": {
     "cell_type": "markdown",
     "checksum": "69421943e22521de848bb03a50f57767",
     "grade": false,
     "grade_id": "a2_1_5",
     "locked": true,
     "schema_version": 3,
     "solution": false,
     "task": false
    },
    "tags": []
   },
   "source": [
    "5. Plot scatterplot of mean cross validation accuracies for the different batch sizes."
   ]
  },
  {
   "cell_type": "code",
   "execution_count": null,
   "id": "f91e692f",
   "metadata": {
    "deletable": false,
    "id": "8fa3afdf-eed6-47b9-9acc-bc2304c46ec3",
    "nbgrader": {
     "cell_type": "code",
     "checksum": "17599eb29fd6e3a1e2812f0ff7cba983",
     "grade": true,
     "grade_id": "plot",
     "locked": false,
     "points": 1,
     "schema_version": 3,
     "solution": true,
     "task": false
    },
    "tags": []
   },
   "outputs": [],
   "source": [
    "# YOUR CODE HERE"
   ]
  },
  {
   "cell_type": "markdown",
   "id": "b3e13eef",
   "metadata": {
    "deletable": false,
    "editable": false,
    "id": "baab6e4d-4e8b-4358-a68d-682f60db4a06",
    "nbgrader": {
     "cell_type": "markdown",
     "checksum": "11e8d298b5774c4044f1c3f950c46214",
     "grade": false,
     "grade_id": "a2_1_6",
     "locked": true,
     "schema_version": 3,
     "solution": false,
     "task": false
    },
    "tags": []
   },
   "source": [
    "6. Create a table of time taken to train the network on the last epoch against different batch sizes. Select the optimal batch size and state a reason for your selection."
   ]
  },
  {
   "cell_type": "code",
   "execution_count": null,
   "id": "2171f959",
   "metadata": {
    "deletable": false,
    "id": "081aa567-cd92-4749-93fd-fc6608a1f6ae",
    "nbgrader": {
     "cell_type": "code",
     "checksum": "c18e30a9850c282ad725336848222a62",
     "grade": false,
     "grade_id": "times",
     "locked": false,
     "schema_version": 3,
     "solution": true,
     "task": false
    },
    "tags": []
   },
   "outputs": [],
   "source": [
    "df = pd.DataFrame({'Batch Size':\n",
    "                   'Last Epoch Time':\n",
    "                  })\n",
    "\n",
    "df"
   ]
  },
  {
   "cell_type": "code",
   "execution_count": null,
   "id": "af149f33",
   "metadata": {
    "deletable": false,
    "editable": false,
    "id": "1c83d786-706b-46d2-9220-3b09e4c473b3",
    "nbgrader": {
     "cell_type": "code",
     "checksum": "a2fc4a52c2a0af7ea586ea85cec9b3e9",
     "grade": true,
     "grade_id": "correct_times",
     "locked": true,
     "points": 1,
     "schema_version": 3,
     "solution": false,
     "task": false
    },
    "tags": []
   },
   "outputs": [],
   "source": []
  },
  {
   "cell_type": "code",
   "execution_count": null,
   "id": "cefe7c91",
   "metadata": {
    "deletable": false,
    "id": "d46dfd1c-1d3c-46e4-98d6-21c2672ad31b",
    "nbgrader": {
     "cell_type": "code",
     "checksum": "38690f32ec506325fc73c8353b77d041",
     "grade": false,
     "grade_id": "batch_size",
     "locked": false,
     "schema_version": 3,
     "solution": true,
     "task": false
    },
    "tags": []
   },
   "outputs": [],
   "source": [
    "# YOUR CODE HERE\n",
    "optimal_batch_size =\n",
    "reason ="
   ]
  },
  {
   "cell_type": "code",
   "execution_count": null,
   "id": "0f20661c",
   "metadata": {
    "deletable": false,
    "editable": false,
    "id": "096ff7b5-6a77-47d4-941e-37bc495b6558",
    "nbgrader": {
     "cell_type": "code",
     "checksum": "f695b961ed43ec6a31b7647e078fd8d6",
     "grade": true,
     "grade_id": "correct_batch_size",
     "locked": true,
     "points": 1,
     "schema_version": 3,
     "solution": false,
     "task": false
    },
    "tags": []
   },
   "outputs": [],
   "source": []
  }
 ],
 "metadata": {
  "colab": {
   "provenance": []
  },
  "kernelspec": {
   "display_name": "Python 3 (ipykernel)",
   "language": "python",
   "name": "python3"
  },
  "language_info": {
   "codemirror_mode": {
    "name": "ipython",
    "version": 3
   },
   "file_extension": ".py",
   "mimetype": "text/x-python",
   "name": "python",
   "nbconvert_exporter": "python",
   "pygments_lexer": "ipython3",
   "version": "3.8.18"
  }
 },
 "nbformat": 4,
 "nbformat_minor": 5
}
